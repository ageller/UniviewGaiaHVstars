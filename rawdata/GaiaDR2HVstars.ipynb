{
 "cells": [
  {
   "cell_type": "markdown",
   "metadata": {},
   "source": [
    "# Gaia DR2 hypervelocity stars escaping the Milky Way\n",
    "\n",
    "*From [this paper](http://adsabs.harvard.edu/doi/10.1093/mnras/sty2592). For Universe Update 18 Oct, 2018*\n",
    "\n",
    "*Aaron Geller*"
   ]
  },
  {
   "cell_type": "code",
   "execution_count": 57,
   "metadata": {},
   "outputs": [
    {
     "ename": "ModuleNotFoundError",
     "evalue": "No module named 'gala'",
     "output_type": "error",
     "traceback": [
      "\u001b[0;31m---------------------------------------------------------------------------\u001b[0m",
      "\u001b[0;31mModuleNotFoundError\u001b[0m                       Traceback (most recent call last)",
      "\u001b[0;32m<ipython-input-57-3d6e35630925>\u001b[0m in \u001b[0;36m<module>\u001b[0;34m()\u001b[0m\n\u001b[1;32m      5\u001b[0m \u001b[0;32mimport\u001b[0m \u001b[0mnumpy\u001b[0m \u001b[0;32mas\u001b[0m \u001b[0mnp\u001b[0m\u001b[0;34m\u001b[0m\u001b[0m\n\u001b[1;32m      6\u001b[0m \u001b[0;34m\u001b[0m\u001b[0m\n\u001b[0;32m----> 7\u001b[0;31m \u001b[0;32mimport\u001b[0m \u001b[0mgala\u001b[0m\u001b[0;34m.\u001b[0m\u001b[0mdynamics\u001b[0m \u001b[0;32mas\u001b[0m \u001b[0mgd\u001b[0m\u001b[0;34m\u001b[0m\u001b[0m\n\u001b[0m\u001b[1;32m      8\u001b[0m \u001b[0;32mimport\u001b[0m \u001b[0mgala\u001b[0m\u001b[0;34m.\u001b[0m\u001b[0mintegrate\u001b[0m \u001b[0;32mas\u001b[0m \u001b[0mgi\u001b[0m\u001b[0;34m\u001b[0m\u001b[0m\n\u001b[1;32m      9\u001b[0m \u001b[0;32mimport\u001b[0m \u001b[0mgala\u001b[0m\u001b[0;34m.\u001b[0m\u001b[0mpotential\u001b[0m \u001b[0;32mas\u001b[0m \u001b[0mgp\u001b[0m\u001b[0;34m\u001b[0m\u001b[0m\n",
      "\u001b[0;31mModuleNotFoundError\u001b[0m: No module named 'gala'"
     ]
    }
   ],
   "source": [
    "from astropy.table import Table\n",
    "from astropy import units, constants\n",
    "from astropy.coordinates import SkyCoord\n",
    "\n",
    "import numpy as np\n",
    "\n",
    "import gala.dynamics as gd\n",
    "import gala.integrate as gi\n",
    "import gala.potential as gp\n",
    "from gala.units import galactic"
   ]
  },
  {
   "cell_type": "markdown",
   "metadata": {},
   "source": [
    "*I scraped this out of the paper/1804.10607 file that I downloaded from the arXiv, and edited the file to remove things astropy doesn't understand.*\n",
    "\n",
    "*The first 7 are \"Galactic\" ; the next 13 are \"Extragalactic\".*"
   ]
  },
  {
   "cell_type": "code",
   "execution_count": 33,
   "metadata": {},
   "outputs": [
    {
     "data": {
      "text/html": [
       "<i>Table length=20</i>\n",
       "<table id=\"table90550470080\" class=\"table-striped table-bordered table-condensed\">\n",
       "<thead><tr><th>\\Gaia DR2 ID</th><th>RA</th><th>Dec.</th><th>$\\varpi$</th><th>$E\\varpi$</th><th>$\\mu_{\\alpha*}$</th><th>$E\\mu_{\\alpha*}$</th><th>$\\mu_\\delta$</th><th>$E\\mu_\\delta$</th><th>$v_\\mathrm{rad}$</th><th>$Ev_\\mathrm{rad}$</th><th>G</th><th>d</th><th>Ed+</th><th>Ed-</th><th>$r_\\mathrm{GC}$</th><th>$v_\\mathrm{GC}$</th><th>$P_\\mathrm{MW}$</th><th>$P_\\mathrm{ub}$</th></tr></thead>\n",
       "<thead><tr><th>int64</th><th>float64</th><th>float64</th><th>float64</th><th>float64</th><th>float64</th><th>float64</th><th>float64</th><th>float64</th><th>float64</th><th>float64</th><th>float64</th><th>int64</th><th>int64</th><th>int64</th><th>str21</th><th>str17</th><th>float64</th><th>float64</th></tr></thead>\n",
       "<tr><td>5932173855446728064</td><td>244.1181</td><td>-54.44045</td><td>0.454</td><td>0.029</td><td>-2.676</td><td>0.043</td><td>-4.991</td><td>0.034</td><td>-614.286</td><td>2.492</td><td>13.81</td><td>2197</td><td>162</td><td>-120</td><td>6397^{+92}_{-123}</td><td>747^{+2}_{-3}</td><td>1.0</td><td>1.0</td></tr>\n",
       "<tr><td>1383279090527227264</td><td>240.33735</td><td>41.16677</td><td>0.118</td><td>0.016</td><td>-25.759</td><td>0.025</td><td>-9.745</td><td>0.04</td><td>-180.902</td><td>2.421</td><td>13.01</td><td>8491</td><td>1376</td><td>-951</td><td>10064^{+908}_{-561}</td><td>921^{+179}_{-124}</td><td>1.0</td><td>1.0</td></tr>\n",
       "<tr><td>6456587609813249536</td><td>317.36089</td><td>-57.9124</td><td>0.099</td><td>0.019</td><td>13.002</td><td>0.029</td><td>-18.263</td><td>0.03</td><td>-15.851</td><td>2.833</td><td>13.01</td><td>10021</td><td>2023</td><td>-1480</td><td>7222^{+1350}_{-761}</td><td>875^{+212}_{-155}</td><td>0.98</td><td>0.99</td></tr>\n",
       "<tr><td>5935868592404029184</td><td>253.90291</td><td>-53.29868</td><td>0.074</td><td>0.021</td><td>5.47</td><td>0.032</td><td>6.358</td><td>0.026</td><td>308.412</td><td>1.212</td><td>13.08</td><td>12150</td><td>2919</td><td>-1909</td><td>5985^{+2516}_{-1380}</td><td>747^{+110}_{-73}</td><td>0.83</td><td>0.98</td></tr>\n",
       "<tr><td>5831614858352694400</td><td>247.45238</td><td>-59.96738</td><td>-0.008</td><td>0.025</td><td>4.405</td><td>0.032</td><td>1.532</td><td>0.03</td><td>258.295</td><td>1.245</td><td>13.37</td><td>20196</td><td>6006</td><td>-4394</td><td>14113^{+5781}_{-4061}</td><td>664^{+130}_{-93}</td><td>0.94</td><td>0.92</td></tr>\n",
       "<tr><td>5239334504523094784</td><td>158.89457</td><td>-65.46548</td><td>0.038</td><td>0.013</td><td>-6.77</td><td>0.025</td><td>2.544</td><td>0.022</td><td>22.464</td><td>1.891</td><td>13.39</td><td>19353</td><td>4247</td><td>-2940</td><td>18351^{+3923}_{-2617}</td><td>609^{+140}_{-94}</td><td>0.77</td><td>0.88</td></tr>\n",
       "<tr><td>4395399303719163904</td><td>258.75009</td><td>8.73145</td><td>0.073</td><td>0.019</td><td>-9.911</td><td>0.029</td><td>4.848</td><td>0.029</td><td>24.364</td><td>1.484</td><td>13.19</td><td>12848</td><td>2766</td><td>-2262</td><td>8194^{+2309}_{-1620}</td><td>671^{+136}_{-106}</td><td>1.0</td><td>0.84</td></tr>\n",
       "<tr><td>1396963577886583296</td><td>237.73164</td><td>44.4357</td><td>-0.017</td><td>0.014</td><td>-1.649</td><td>0.023</td><td>-4.966</td><td>0.029</td><td>-412.464</td><td>1.002</td><td>13.24</td><td>31374</td><td>6332</td><td>-5185</td><td>30720^{+6150}_{-4970}</td><td>693^{+145}_{-113}</td><td>0.0</td><td>0.98</td></tr>\n",
       "<tr><td>5593107043671135744</td><td>113.26944</td><td>-31.3792</td><td>-0.1</td><td>0.017</td><td>-1.582</td><td>0.03</td><td>2.113</td><td>0.028</td><td>104.437</td><td>1.511</td><td>13.39</td><td>37681</td><td>8295</td><td>-6444</td><td>41753^{+8183}_{-6322}</td><td>567^{+100}_{-76}</td><td>0.0</td><td>0.97</td></tr>\n",
       "<tr><td>5546986344820400512</td><td>125.63998</td><td>-32.62</td><td>-0.08</td><td>0.022</td><td>-1.986</td><td>0.028</td><td>2.747</td><td>0.035</td><td>79.255</td><td>1.273</td><td>13.82</td><td>29062</td><td>5928</td><td>-4950</td><td>32552^{+5782}_{-4781}</td><td>551^{+90}_{-75}</td><td>0.0</td><td>0.93</td></tr>\n",
       "<tr><td>5257182876777912448</td><td>144.73682</td><td>-60.53137</td><td>-0.012</td><td>0.017</td><td>-3.736</td><td>0.029</td><td>3.444</td><td>0.027</td><td>22.64</td><td>1.723</td><td>13.49</td><td>26140</td><td>6400</td><td>-4240</td><td>25824^{+6144}_{-3989}</td><td>605^{+148}_{-93}</td><td>0.03</td><td>0.92</td></tr>\n",
       "<tr><td>4326973843264734208</td><td>248.8923</td><td>-14.51844</td><td>0.199</td><td>0.031</td><td>-20.546</td><td>0.05</td><td>-33.974</td><td>0.033</td><td>-220.392</td><td>2.052</td><td>13.5</td><td>5257</td><td>881</td><td>-677</td><td>3842^{+450}_{-465}</td><td>766^{+163}_{-122}</td><td>0.04</td><td>0.91</td></tr>\n",
       "<tr><td>5298599521278293504</td><td>140.14259</td><td>-62.46243</td><td>-0.053</td><td>0.02</td><td>-2.373</td><td>0.071</td><td>3.883</td><td>0.055</td><td>54.363</td><td>1.17</td><td>13.39</td><td>28525</td><td>6774</td><td>-5110</td><td>28145^{+6545}_{-4850}</td><td>579^{+139}_{-104}</td><td>0.03</td><td>0.88</td></tr>\n",
       "<tr><td>6700075834174889472</td><td>304.32289</td><td>-32.41577</td><td>0.054</td><td>0.037</td><td>-7.243</td><td>0.065</td><td>4.955</td><td>0.047</td><td>22.491</td><td>2.057</td><td>12.76</td><td>13068</td><td>3816</td><td>-3123</td><td>7584^{+3330}_{-2219}</td><td>698^{+152}_{-120}</td><td>0.1</td><td>0.84</td></tr>\n",
       "<tr><td>4073247619504712192</td><td>280.26863</td><td>-26.28806</td><td>0.05</td><td>0.024</td><td>-3.596</td><td>0.046</td><td>6.231</td><td>0.039</td><td>-191.767</td><td>2.735</td><td>13.58</td><td>14653</td><td>4331</td><td>-2807</td><td>6884^{+4240}_{-2648}</td><td>695^{+139}_{-88}</td><td>0.11</td><td>0.84</td></tr>\n",
       "<tr><td>6492391900301222656</td><td>348.64665</td><td>-58.42957</td><td>0.095</td><td>0.018</td><td>7.502</td><td>0.027</td><td>-15.822</td><td>0.026</td><td>-149.856</td><td>1.163</td><td>13.36</td><td>10276</td><td>1878</td><td>-1541</td><td>9641^{+1335}_{-944}</td><td>658^{+149}_{-117}</td><td>0.06</td><td>0.84</td></tr>\n",
       "<tr><td>4596514892566325504</td><td>268.57736</td><td>29.12348</td><td>0.064</td><td>0.013</td><td>-1.086</td><td>0.019</td><td>-10.512</td><td>0.023</td><td>-112.792</td><td>1.093</td><td>13.49</td><td>14255</td><td>2485</td><td>-1839</td><td>12120^{+2106}_{-1453}</td><td>617^{+121}_{-90}</td><td>0.07</td><td>0.84</td></tr>\n",
       "<tr><td>5830109386395388544</td><td>249.9792</td><td>-61.90285</td><td>-0.006</td><td>0.019</td><td>-1.072</td><td>0.027</td><td>3.932</td><td>0.029</td><td>143.395</td><td>0.633</td><td>13.14</td><td>23852</td><td>6287</td><td>-4917</td><td>17735^{+6123}_{-4680}</td><td>600^{+118}_{-88}</td><td>0.08</td><td>0.84</td></tr>\n",
       "<tr><td>1990547230937629696</td><td>344.00637</td><td>53.61551</td><td>0.043</td><td>0.017</td><td>-4.769</td><td>0.028</td><td>-2.83</td><td>0.027</td><td>-83.38</td><td>1.158</td><td>13.31</td><td>17543</td><td>4372</td><td>-3415</td><td>21331^{+4114}_{-3130}</td><td>563^{+112}_{-84}</td><td>0.05</td><td>0.83</td></tr>\n",
       "<tr><td>5321157479786017280</td><td>128.82063</td><td>-53.20458</td><td>-0.023</td><td>0.018</td><td>-2.518</td><td>0.032</td><td>3.224</td><td>0.034</td><td>81.295</td><td>0.668</td><td>13.59</td><td>27523</td><td>6086</td><td>-5176</td><td>28715^{+5877}_{-4914}</td><td>545^{+110}_{-95}</td><td>0.08</td><td>0.83</td></tr>\n",
       "</table>"
      ],
      "text/plain": [
       "<Table length=20>\n",
       "    \\Gaia DR2 ID        RA       Dec.   ... $P_\\mathrm{MW}$ $P_\\mathrm{ub}$\n",
       "       int64         float64   float64  ...     float64         float64    \n",
       "------------------- --------- --------- ... --------------- ---------------\n",
       "5932173855446728064  244.1181 -54.44045 ...             1.0             1.0\n",
       "1383279090527227264 240.33735  41.16677 ...             1.0             1.0\n",
       "6456587609813249536 317.36089  -57.9124 ...            0.98            0.99\n",
       "5935868592404029184 253.90291 -53.29868 ...            0.83            0.98\n",
       "5831614858352694400 247.45238 -59.96738 ...            0.94            0.92\n",
       "5239334504523094784 158.89457 -65.46548 ...            0.77            0.88\n",
       "4395399303719163904 258.75009   8.73145 ...             1.0            0.84\n",
       "1396963577886583296 237.73164   44.4357 ...             0.0            0.98\n",
       "5593107043671135744 113.26944  -31.3792 ...             0.0            0.97\n",
       "5546986344820400512 125.63998    -32.62 ...             0.0            0.93\n",
       "5257182876777912448 144.73682 -60.53137 ...            0.03            0.92\n",
       "4326973843264734208  248.8923 -14.51844 ...            0.04            0.91\n",
       "5298599521278293504 140.14259 -62.46243 ...            0.03            0.88\n",
       "6700075834174889472 304.32289 -32.41577 ...             0.1            0.84\n",
       "4073247619504712192 280.26863 -26.28806 ...            0.11            0.84\n",
       "6492391900301222656 348.64665 -58.42957 ...            0.06            0.84\n",
       "4596514892566325504 268.57736  29.12348 ...            0.07            0.84\n",
       "5830109386395388544  249.9792 -61.90285 ...            0.08            0.84\n",
       "1990547230937629696 344.00637  53.61551 ...            0.05            0.83\n",
       "5321157479786017280 128.82063 -53.20458 ...            0.08            0.83"
      ]
     },
     "execution_count": 33,
     "metadata": {},
     "output_type": "execute_result"
    }
   ],
   "source": [
    "tab = Table.read('table2.tex')\n",
    "tab"
   ]
  },
  {
   "cell_type": "code",
   "execution_count": 51,
   "metadata": {},
   "outputs": [
    {
     "name": "stdout",
     "output_type": "stream",
     "text": [
      "<TableColumns names=('\\Gaia DR2 ID','RA','Dec.','$\\varpi$','$E\\varpi$','$\\mu_{\\alpha*}$','$E\\mu_{\\alpha*}$','$\\mu_\\delta$','$E\\mu_\\delta$','$v_\\mathrm{rad}$','$Ev_\\mathrm{rad}$','G','d','Ed+','Ed-','$r_\\mathrm{GC}$','$v_\\mathrm{GC}$','$P_\\mathrm{MW}$','$P_\\mathrm{ub}$')>\n"
     ]
    }
   ],
   "source": [
    "print(tab.columns)"
   ]
  },
  {
   "cell_type": "code",
   "execution_count": 56,
   "metadata": {},
   "outputs": [
    {
     "name": "stdout",
     "output_type": "stream",
     "text": [
      "[(  -557.72223946,  -1149.50765284,  -1787.28482891),\n",
      " ( -3163.3505497 ,  -5554.35391932,   5589.22596061),\n",
      " (  3916.01093274,  -3605.89305986,  -8490.16104768),\n",
      " ( -2013.32995763,  -6976.67515581,  -9741.40679019),\n",
      " ( -3875.90746455,  -9335.31554361, -17484.49716255),\n",
      " ( -7497.09616972,   2893.70498006, -17605.6419795 ),\n",
      " ( -2477.45210017, -12455.09503159,   1950.36992526),\n",
      " (-11960.20114359, -18942.31874919,  21965.20031797),\n",
      " (-12708.84788448,  29552.99390288, -19620.48668677),\n",
      " (-14263.02330623,  19893.0388551 , -15666.3019017 ),\n",
      " (-10499.88921119,   7424.2103425 , -22758.14200112),\n",
      " ( -1832.70798871,  -4747.67394621,  -1317.88562804),\n",
      " (-10123.63438955,   8451.89389474, -25293.3418381 ),\n",
      " (  6220.31861323,  -9110.82523818,  -7005.22118347),\n",
      " (  2341.94893362, -12927.14109138,  -6489.58453183),\n",
      " (  5274.68516035,  -1059.09458924,  -8755.12370616),\n",
      " (  -309.16769335, -12448.94246992,   6937.81462119),\n",
      " ( -3845.92502323, -10554.66861829, -21041.04881117),\n",
      " ( 10003.71250736,  -2867.31480553,  14123.0694566 ),\n",
      " (-10334.29230415,  12843.79462042, -22039.84735248)] pc\n",
      "[( 149.32464531,  371.61568898,  469.49964238),\n",
      " (-961.34665865,  407.09423181, -414.36326558),\n",
      " (-128.53057641,  957.96726702, -447.43695317),\n",
      " ( 170.18933809, -546.54141112,  -28.41593768),\n",
      " ( 291.23086096, -398.37867411, -150.20844093),\n",
      " (  16.86784247,  659.24416394,   76.47846597),\n",
      " (-587.99014717,  138.10526754,  295.54674278),\n",
      " (-326.20232671,  -57.26117313, -816.14326802),\n",
      " ( 146.73492968,  374.09092115,  267.8518784 ),\n",
      " (  64.58835016,  379.47398567,  276.02920044),\n",
      " ( -45.19451996,  598.94284245,  190.23545498),\n",
      " (-324.39665405,  581.43719551, -764.36765046),\n",
      " (-171.046541  ,  560.8108001 ,  194.55007087),\n",
      " (-267.07746765, -404.5725228 ,  247.06860424),\n",
      " (-242.26341869,  -63.96557339,  472.98640971),\n",
      " (-648.79708787,  503.01013503, -275.84024039),\n",
      " ( -79.50135437, -245.29375285, -675.43993082),\n",
      " (-271.27940414, -390.44965583,   82.89175382),\n",
      " (  25.31265543, -419.82477276, -206.73449658),\n",
      " (  14.27559641,  506.32322978,  186.84798665)] km / s\n"
     ]
    }
   ],
   "source": [
    "#Note: I *think* the pm in RA is already multiplied by cosine dec...\n",
    "coord = SkyCoord(tab['RA']*units.deg, tab['Dec.']*units.deg, tab['d']*units.pc, \\\n",
    "                pm_ra_cosdec=tab[r'$\\mu_{\\alpha*}$']*units.mas/units.yr, \\\n",
    "                pm_dec=tab[r'$\\mu_\\delta$']*units.mas/units.yr, \\\n",
    "                radial_velocity=tab[r'$v_\\mathrm{rad}$']*units.km/units.s)\n",
    "print(coord.cartesian)\n",
    "print(coord.velocity)"
   ]
  },
  {
   "cell_type": "markdown",
   "metadata": {},
   "source": [
    "## Integrate these orbits in the MW potential\n",
    "\n",
    "*Using Gala, and following [this tutorial](http://gala.adrian.pw/en/latest/examples/Milky-Way-model.html).*"
   ]
  },
  {
   "cell_type": "code",
   "execution_count": null,
   "metadata": {},
   "outputs": [],
   "source": []
  }
 ],
 "metadata": {
  "kernelspec": {
   "display_name": "Python 3",
   "language": "python",
   "name": "python3"
  },
  "language_info": {
   "codemirror_mode": {
    "name": "ipython",
    "version": 3
   },
   "file_extension": ".py",
   "mimetype": "text/x-python",
   "name": "python",
   "nbconvert_exporter": "python",
   "pygments_lexer": "ipython3",
   "version": "3.6.4"
  }
 },
 "nbformat": 4,
 "nbformat_minor": 2
}
